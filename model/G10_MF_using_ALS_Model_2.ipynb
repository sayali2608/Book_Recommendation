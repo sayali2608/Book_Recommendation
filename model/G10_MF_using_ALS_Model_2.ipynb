{
 "cells": [
  {
   "cell_type": "code",
   "execution_count": 1,
   "metadata": {
    "id": "hgnNmAbla8ZM"
   },
   "outputs": [],
   "source": [
    "import pandas as pd\n",
    "import numpy as np\n",
    "from pyspark import SparkFiles\n",
    "from pyspark.rdd import RDD\n",
    "from pyspark.sql import DataFrame\n",
    "from pyspark.sql import SparkSession\n",
    "from pyspark import SparkFiles\n",
    "from pyspark.sql.functions import mean\n",
    "from pyspark.sql.functions import lit, col\n",
    "\n",
    "def init_spark():\n",
    "    spark = SparkSession \\\n",
    "        .builder \\\n",
    "        .appName(\"Python Spark SQL basic example\") \\\n",
    "        .config(\"spark.some.config.option\", \"some-value\") \\\n",
    "        .getOrCreate()\n",
    "    return spark\n",
    "\n",
    "\n",
    "\n",
    "spark = init_spark()"
   ]
  },
  {
   "cell_type": "markdown",
   "metadata": {},
   "source": [
    "# Collaborative Filtering with ALS"
   ]
  },
  {
   "cell_type": "markdown",
   "metadata": {
    "id": "JdEH82EuAsdy"
   },
   "source": [
    "###**Check the sparsity of the users-rating matrix to determine how much bias might have been introduced if we used SVD rather than ALS for collaborative filtering.**\n"
   ]
  },
  {
   "cell_type": "code",
   "execution_count": 2,
   "metadata": {
    "id": "cdzEBUO531Up"
   },
   "outputs": [],
   "source": [
    "from pyspark.sql.types import StructType, StructField, IntegerType, StringType"
   ]
  },
  {
   "cell_type": "code",
   "execution_count": 3,
   "metadata": {
    "id": "aP4zOBhf4Ve7"
   },
   "outputs": [],
   "source": [
    "ratings = spark.read.csv(\"ratings.csv\", header=True)\n",
    "ratings = ratings.withColumn(\"user_id\", ratings[\"user_id\"].cast(IntegerType()))\n",
    "ratings = ratings.withColumn(\"book_id\", ratings[\"book_id\"].cast(IntegerType()))\n",
    "ratings = ratings.withColumn(\"rating\", ratings[\"rating\"].cast(IntegerType()))\n"
   ]
  },
  {
   "cell_type": "code",
   "execution_count": 4,
   "metadata": {
    "colab": {
     "base_uri": "https://localhost:8080/"
    },
    "id": "NYBib65RnZgA",
    "outputId": "6ec8c817-3703-42fb-ac14-a05f269e0b09"
   },
   "outputs": [
    {
     "name": "stdout",
     "output_type": "stream",
     "text": [
      "The ratings dataframe is  98.88% empty.\n"
     ]
    }
   ],
   "source": [
    "# Count the total number of ratings in the dataset\n",
    "numerator = ratings.select(\"rating\").count()\n",
    "\n",
    "# Count the number of distinct Id's\n",
    "num_users = ratings.select(\"user_id\").distinct().count()\n",
    "num_items = ratings.select(\"book_id\").distinct().count()\n",
    "\n",
    "# Set the denominator equal to the number of users multiplied by the number of items\n",
    "denominator = num_users * num_items\n",
    "\n",
    "# Divide the numerator by the denominator\n",
    "sparsity = (1.0 - (numerator * 1.0)/ denominator) * 100\n",
    "print(\"The ratings dataframe is \", \"%.2f\" % sparsity + \"% empty.\")"
   ]
  },
  {
   "cell_type": "code",
   "execution_count": 5,
   "metadata": {
    "colab": {
     "base_uri": "https://localhost:8080/"
    },
    "id": "RVA-tULp0W4a",
    "outputId": "dbeb86c2-5ccb-44be-d2a3-0e6b1f87dd6a"
   },
   "outputs": [
    {
     "name": "stdout",
     "output_type": "stream",
     "text": [
      "Item with the fewest ratings: \n",
      "+-------+-----+\n",
      "|book_id|count|\n",
      "+-------+-----+\n",
      "|   7803|    8|\n",
      "|   9345|   11|\n",
      "|   9486|   24|\n",
      "|   1935|   33|\n",
      "|   9315|   36|\n",
      "|   9553|   41|\n",
      "|   8181|   45|\n",
      "|   9479|   48|\n",
      "|   9260|   48|\n",
      "|   9705|   50|\n",
      "+-------+-----+\n",
      "only showing top 10 rows\n",
      "\n"
     ]
    }
   ],
   "source": [
    "# Min num ratings \n",
    "print(\"Item with the fewest ratings: \")\n",
    "ratings.groupBy(\"book_id\").count().sort('count').show(10)"
   ]
  },
  {
   "cell_type": "code",
   "execution_count": 6,
   "metadata": {
    "colab": {
     "base_uri": "https://localhost:8080/"
    },
    "id": "ViyHpBPl0ZXD",
    "outputId": "469db765-db3a-4c51-b368-0b5fef819096"
   },
   "outputs": [
    {
     "name": "stdout",
     "output_type": "stream",
     "text": [
      "+-------+-----+\n",
      "|user_id|count|\n",
      "+-------+-----+\n",
      "|  12874|  200|\n",
      "|  30944|  200|\n",
      "|  28158|  199|\n",
      "|  12381|  199|\n",
      "|  52036|  199|\n",
      "|   6630|  197|\n",
      "|  45554|  197|\n",
      "|  24143|  196|\n",
      "|   9668|  196|\n",
      "|  19729|  196|\n",
      "+-------+-----+\n",
      "only showing top 10 rows\n",
      "\n"
     ]
    }
   ],
   "source": [
    "# Group data by user_id, count ratings\n",
    "(ratings.groupBy(\"user_id\")\n",
    "    .count()\n",
    "    .filter(\"`count` >= 5\")\n",
    "    .orderBy('count', ascending=False)\n",
    "    .show(n = 10))"
   ]
  },
  {
   "cell_type": "code",
   "execution_count": 7,
   "metadata": {
    "colab": {
     "base_uri": "https://localhost:8080/"
    },
    "id": "RNqkDmZX0db7",
    "outputId": "cecb839e-5de0-44dc-9982-e8102de67be0"
   },
   "outputs": [
    {
     "name": "stdout",
     "output_type": "stream",
     "text": [
      "+-------+-----+\n",
      "|book_id|count|\n",
      "+-------+-----+\n",
      "|      1|22806|\n",
      "|      2|21850|\n",
      "|      4|19088|\n",
      "|      3|16931|\n",
      "|      5|16604|\n",
      "|     17|16549|\n",
      "|     20|15953|\n",
      "|     18|15855|\n",
      "|     23|15657|\n",
      "|      7|15558|\n",
      "+-------+-----+\n",
      "only showing top 10 rows\n",
      "\n"
     ]
    }
   ],
   "source": [
    "# Group data by book_id, count ratings\n",
    "(ratings.groupBy(\"book_id\")\n",
    "    .count()\n",
    "    .filter(\"`count` > 1\")\n",
    "    .orderBy('count', ascending=False)\n",
    "    .show(n = 10))"
   ]
  },
  {
   "cell_type": "markdown",
   "metadata": {
    "id": "H2XerPT_BA_4"
   },
   "source": [
    "#**Algorithm - Implementation**"
   ]
  },
  {
   "cell_type": "markdown",
   "metadata": {
    "id": "Uu4y-NN-0h7m"
   },
   "source": [
    "### **Split the data into training and test set to use collaborative filtering using ALS Matrix Factorization**\n"
   ]
  },
  {
   "cell_type": "code",
   "execution_count": 8,
   "metadata": {
    "id": "obH-SX4E0g7i"
   },
   "outputs": [],
   "source": [
    "(training, test) = ratings.randomSplit([0.7, 0.3],0)"
   ]
  },
  {
   "cell_type": "code",
   "execution_count": 9,
   "metadata": {
    "colab": {
     "base_uri": "https://localhost:8080/"
    },
    "id": "BrxeFGXef4oS",
    "outputId": "374d7eee-5d25-4ebf-bf4f-d5dd5309e4ca"
   },
   "outputs": [
    {
     "name": "stdout",
     "output_type": "stream",
     "text": [
      "4182526 1793953\n",
      "+-------+-------+------+\n",
      "|user_id|book_id|rating|\n",
      "+-------+-------+------+\n",
      "|      1|      4|     5|\n",
      "|      1|     16|     3|\n",
      "|      1|     33|     4|\n",
      "|      1|     60|     3|\n",
      "|      1|     66|     4|\n",
      "+-------+-------+------+\n",
      "only showing top 5 rows\n",
      "\n"
     ]
    }
   ],
   "source": [
    "print(training.count(),test.count())\n",
    "test.show(5)"
   ]
  },
  {
   "cell_type": "markdown",
   "metadata": {
    "id": "_MgKu04cf4oT"
   },
   "source": [
    "###**Import ALS and regression evaluator to find RMSE.**"
   ]
  },
  {
   "cell_type": "code",
   "execution_count": 10,
   "metadata": {
    "id": "7Ue1FwmEf4oT"
   },
   "outputs": [],
   "source": [
    "from pyspark.ml.evaluation import RegressionEvaluator\n",
    "from pyspark.ml.recommendation import ALS\n",
    "from pyspark.sql import Row"
   ]
  },
  {
   "cell_type": "markdown",
   "metadata": {},
   "source": [
    "# Prediction using global average for comparison"
   ]
  },
  {
   "cell_type": "code",
   "execution_count": 11,
   "metadata": {},
   "outputs": [
    {
     "name": "stdout",
     "output_type": "stream",
     "text": [
      "Global Average: 3.920029905372973\n",
      "Root-mean-square error = 0.9911524232836714\n"
     ]
    }
   ],
   "source": [
    "#Evaluate the root mean squared error if we use the global average as a prediction for all rating, Our model should have\n",
    "#a better performance than this.\n",
    "\n",
    "average = training.select('user_id','rating').withColumn(\"user_id\",lit(1)).groupBy('user_id').mean()\n",
    "global_average = average.select('avg(rating)').collect()[0][0]\n",
    "\n",
    "print(\"Global Average:\",str(global_average))\n",
    "    \n",
    "test_avg = test.withColumn('prediction',lit(global_average))\n",
    "    \n",
    "evaluator = RegressionEvaluator(metricName=\"rmse\", labelCol=\"rating\",predictionCol=\"prediction\")\n",
    "rmse = evaluator.evaluate(test_avg)\n",
    "\n",
    "print(\"Root-mean-square error = \" + str(rmse))\n"
   ]
  },
  {
   "cell_type": "markdown",
   "metadata": {},
   "source": [
    "# Basic ALS Recommender"
   ]
  },
  {
   "cell_type": "markdown",
   "metadata": {},
   "source": [
    "When we're not using explicit data like ratings here, we use the implicitPrefs argument. Sometimes companies don't have explicit data like ratings, but still want to build a recommendation engine based on other metrics like views, clicks, wishlists, etc. When it comes to implicit preference, it is not within the scope of our good books project. ColdstartStrategy is used when we have no data on a user, which may lead to null prediction if the user on the test set has no rating in the training set. We use the 'drop' cold start strategy since we wish to avoid such a situation."
   ]
  },
  {
   "cell_type": "code",
   "execution_count": 12,
   "metadata": {
    "id": "-bALeTb-f4oT"
   },
   "outputs": [
    {
     "data": {
      "text/plain": [
       "pyspark.ml.recommendation.ALS"
      ]
     },
     "execution_count": 12,
     "metadata": {},
     "output_type": "execute_result"
    }
   ],
   "source": [
    "#als with 10 latent factors(default)\n",
    "\n",
    "als = ALS( userCol=\"user_id\", itemCol=\"book_id\", ratingCol=\"rating\",\n",
    "          coldStartStrategy=\"drop\", nonnegative = True, implicitPrefs = False)\n",
    "\n",
    "als.setSeed(0)\n",
    "type(als)"
   ]
  },
  {
   "cell_type": "code",
   "execution_count": 13,
   "metadata": {},
   "outputs": [
    {
     "data": {
      "text/plain": [
       "ALS_1576281caf35"
      ]
     },
     "execution_count": 13,
     "metadata": {},
     "output_type": "execute_result"
    }
   ],
   "source": [
    "#ALS with 5 latent factors\n",
    "\n",
    "als_2 = ALS( userCol=\"user_id\", itemCol=\"book_id\", ratingCol=\"rating\",\n",
    "          coldStartStrategy=\"drop\", nonnegative = True,rank=5 ,implicitPrefs = False)\n",
    "\n",
    "als_2.setSeed(0)"
   ]
  },
  {
   "cell_type": "code",
   "execution_count": 14,
   "metadata": {},
   "outputs": [
    {
     "data": {
      "text/plain": [
       "ALS_5c547b6aa6f7"
      ]
     },
     "execution_count": 14,
     "metadata": {},
     "output_type": "execute_result"
    }
   ],
   "source": [
    "#ALS with 30 latent factors\n",
    "\n",
    "als_3 = ALS( userCol=\"user_id\", itemCol=\"book_id\", ratingCol=\"rating\",\n",
    "          coldStartStrategy=\"drop\", nonnegative = True,rank=30 ,implicitPrefs = False)\n",
    "\n",
    "als_3.setSeed(0)"
   ]
  },
  {
   "cell_type": "code",
   "execution_count": 52,
   "metadata": {},
   "outputs": [
    {
     "data": {
      "text/plain": [
       "ALS_7ecacd035a50"
      ]
     },
     "execution_count": 52,
     "metadata": {},
     "output_type": "execute_result"
    }
   ],
   "source": [
    "#ALS with 100 latent factors\n",
    "\n",
    "als_4 = ALS( userCol=\"user_id\", itemCol=\"book_id\", ratingCol=\"rating\",\n",
    "          coldStartStrategy=\"drop\", nonnegative = True,rank=100 ,implicitPrefs = False)\n",
    "\n",
    "als_4.setSeed(0)"
   ]
  },
  {
   "cell_type": "markdown",
   "metadata": {
    "id": "LCcQzIEo848-"
   },
   "source": [
    "###**Training the model**"
   ]
  },
  {
   "cell_type": "code",
   "execution_count": 53,
   "metadata": {
    "id": "YCJnuSdxf4oU"
   },
   "outputs": [],
   "source": [
    "model = als.fit(training)\n",
    "model_2 = als_2.fit(training)\n",
    "model_3 = als_3.fit(training)\n",
    "model_4 = als_4.fit(training)"
   ]
  },
  {
   "cell_type": "code",
   "execution_count": 54,
   "metadata": {
    "id": "4bv3wQ9Af4oV"
   },
   "outputs": [],
   "source": [
    "predictions = model.transform(test)\n",
    "predictions_2 = model_2.transform(test)\n",
    "predictions_3 = model_3.transform(test)\n",
    "predictions_4 = model_4.transform(test)"
   ]
  },
  {
   "cell_type": "code",
   "execution_count": 17,
   "metadata": {
    "colab": {
     "base_uri": "https://localhost:8080/"
    },
    "id": "1i4sVl5Lf4oV",
    "outputId": "d4cd5545-ea8b-4650-be5b-6ddc3f518313"
   },
   "outputs": [
    {
     "name": "stdout",
     "output_type": "stream",
     "text": [
      "+-------+-------+------+----------+\n",
      "|user_id|book_id|rating|prediction|\n",
      "+-------+-------+------+----------+\n",
      "|  11141|    148|     3| 3.3516066|\n",
      "|  33412|    148|     5| 4.0760345|\n",
      "|  51123|    148|     3| 3.3515449|\n",
      "|  12367|    148|     5| 3.9604023|\n",
      "|  19351|    148|     2| 3.0305216|\n",
      "+-------+-------+------+----------+\n",
      "only showing top 5 rows\n",
      "\n"
     ]
    }
   ],
   "source": [
    "predictions.show(5)"
   ]
  },
  {
   "cell_type": "markdown",
   "metadata": {},
   "source": [
    "###Evaluation"
   ]
  },
  {
   "cell_type": "code",
   "execution_count": 18,
   "metadata": {
    "colab": {
     "base_uri": "https://localhost:8080/"
    },
    "id": "B5BYc3h2f4oW",
    "outputId": "cb644f5b-7593-49c7-ce7d-94e08866e856"
   },
   "outputs": [
    {
     "name": "stdout",
     "output_type": "stream",
     "text": [
      "Root-mean-square error = 0.8353404186047991\n"
     ]
    }
   ],
   "source": [
    "#Evaluate model 1 (10 latent factors)\n",
    "rmse = evaluator.evaluate(predictions)\n",
    "print(\"Root-mean-square error = \" + str(rmse))"
   ]
  },
  {
   "cell_type": "code",
   "execution_count": 19,
   "metadata": {},
   "outputs": [
    {
     "name": "stdout",
     "output_type": "stream",
     "text": [
      "Root-mean-square error = 0.8419515173639188\n"
     ]
    }
   ],
   "source": [
    "#Evaluate model 2 (5 latent factors)\n",
    "rmse_2 = evaluator.evaluate(predictions_2)\n",
    "print(\"Root-mean-square error = \" + str(rmse_2))"
   ]
  },
  {
   "cell_type": "code",
   "execution_count": 20,
   "metadata": {},
   "outputs": [
    {
     "name": "stdout",
     "output_type": "stream",
     "text": [
      "Root-mean-square error = 0.8263747897020755\n"
     ]
    }
   ],
   "source": [
    "#Evaluate model 3 (30 latent factors)\n",
    "rmse_3 = evaluator.evaluate(predictions_3)\n",
    "print(\"Root-mean-square error = \" + str(rmse_3))"
   ]
  },
  {
   "cell_type": "code",
   "execution_count": 55,
   "metadata": {},
   "outputs": [
    {
     "name": "stdout",
     "output_type": "stream",
     "text": [
      "Root-mean-square error = 0.8218106459010788\n"
     ]
    }
   ],
   "source": [
    "#Evaluate model 4 (100 latent factors)\n",
    "rmse_4 = evaluator.evaluate(predictions_4)\n",
    "print(\"Root-mean-square error = \" + str(rmse_4))"
   ]
  },
  {
   "cell_type": "markdown",
   "metadata": {
    "id": "0UFQiigbDohw"
   },
   "source": [
    "**RESULT - RMSE is 0.82 which means the predicted ratin deviates from original by an average of this score.**"
   ]
  },
  {
   "cell_type": "markdown",
   "metadata": {},
   "source": [
    "# ALS Recommender with Bias"
   ]
  },
  {
   "cell_type": "code",
   "execution_count": 21,
   "metadata": {},
   "outputs": [
    {
     "name": "stdout",
     "output_type": "stream",
     "text": [
      "+-------+-------+------+------------------+----------------+---------------------+\n",
      "|user_id|book_id|rating|         user_mean|       item_mean|user_item_interaction|\n",
      "+-------+-------+------+------------------+----------------+---------------------+\n",
      "|   1645|    148|     4|3.5081967213114753|3.76158940397351|   0.6502437800879872|\n",
      "|   6397|    148|     4|              3.75|3.76158940397351|   0.4084405013994634|\n",
      "|   9427|    148|     3| 3.723404255319149|3.76158940397351|  -0.5649637539196859|\n",
      "|  10206|    148|     5| 3.824324324324324|3.76158940397351|   1.3341161770751389|\n",
      "|  11317|    148|     4| 3.641025641025641|3.76158940397351|    0.517414860373822|\n",
      "+-------+-------+------+------------------+----------------+---------------------+\n",
      "only showing top 5 rows\n",
      "\n"
     ]
    }
   ],
   "source": [
    "#Create user mean and item mean column to get user-item interaction column\n",
    "\n",
    "user_mean = training.groupBy('user_id').mean('rating')\n",
    "item_mean = training.groupBy('book_id').mean('rating')\n",
    "\n",
    "training_bias = training.join(user_mean,['user_id'],'left_outer').select('user_id','book_id','rating',\n",
    "                                                                       col('avg(rating)').alias('user_mean'))\n",
    "    \n",
    "training_bias = training_bias.join(item_mean,['book_id'],'left_outer').select('user_id','book_id','rating','user_mean',\n",
    "                                                                       col('avg(rating)').alias('item_mean'))\n",
    "\n",
    "training_bias = training_bias.withColumn(\"user_item_interaction\",training_bias.rating-(training_bias.user_mean+training_bias.item_mean-global_average))\n",
    "\n",
    "\n",
    "training_bias.show(5)\n",
    "\n"
   ]
  },
  {
   "cell_type": "markdown",
   "metadata": {},
   "source": [
    "Models Training"
   ]
  },
  {
   "cell_type": "code",
   "execution_count": 22,
   "metadata": {},
   "outputs": [],
   "source": [
    "#Train model using user-item interaction\n",
    "\n",
    "#model 1: 5 latent factor \n",
    "als = ALS(maxIter=5, regParam=0.01,rank=5, userCol=\"user_id\", itemCol=\"book_id\", ratingCol=\"user_item_interaction\",coldStartStrategy=\"drop\")\n",
    "als.setSeed(0)\n",
    "\n",
    "model = als.fit(training_bias)\n",
    "\n"
   ]
  },
  {
   "cell_type": "code",
   "execution_count": 23,
   "metadata": {},
   "outputs": [],
   "source": [
    "#model 2: latent factor 10 (default)\n",
    "als_2 = ALS(maxIter=5, regParam=0.01,rank=10, userCol=\"user_id\", itemCol=\"book_id\", ratingCol=\"user_item_interaction\",coldStartStrategy=\"drop\")\n",
    "als_2.setSeed(0)\n",
    "\n",
    "model_2 = als_2.fit(training_bias)"
   ]
  },
  {
   "cell_type": "code",
   "execution_count": 41,
   "metadata": {},
   "outputs": [],
   "source": [
    "#model 3: latent factor 2 (default)\n",
    "als_3 = ALS(maxIter=5, regParam=0.01,rank=2, userCol=\"user_id\", itemCol=\"book_id\", ratingCol=\"user_item_interaction\",coldStartStrategy=\"drop\")\n",
    "als_3.setSeed(0)\n",
    "\n",
    "model_3 = als_3.fit(training_bias)"
   ]
  },
  {
   "cell_type": "code",
   "execution_count": 46,
   "metadata": {},
   "outputs": [],
   "source": [
    "# create user mean, item mean and user-item interaction coloumn for test set\n",
    "user_mean = test.groupBy('user_id').mean('rating')\n",
    "item_mean = test.groupBy('book_id').mean('rating')\n",
    "\n",
    "\n",
    "test_bias =  test.join(user_mean,['user_id'],'left_outer').select('user_id','book_id','rating',\n",
    "                                                                       col('avg(rating)').alias('user_mean'))\n",
    "    \n",
    "test_bias = test_bias.join(item_mean,['book_id'],'left_outer').select('user_id','book_id','rating','user_mean',\n",
    "                                                                       col('avg(rating)').alias('item_mean'))    \n",
    "\n",
    "test_bias_2 = test_bias\n",
    "test_bias_3 = test_bias"
   ]
  },
  {
   "cell_type": "markdown",
   "metadata": {},
   "source": [
    "Evaluating models with bias"
   ]
  },
  {
   "cell_type": "code",
   "execution_count": 25,
   "metadata": {},
   "outputs": [
    {
     "name": "stdout",
     "output_type": "stream",
     "text": [
      "+-------+-------+------+------------------+-----------------+-----------------+\n",
      "|user_id|book_id|rating|         user_mean|        item_mean|       prediction|\n",
      "+-------+-------+------+------------------+-----------------+-----------------+\n",
      "|  11141|    148|     3|               3.6|3.804783451842275|3.472783456720801|\n",
      "|  33412|    148|     5| 4.384615384615385|3.804783451842275|4.313194944888169|\n",
      "|  51123|    148|     3| 3.923076923076923|3.804783451842275|3.696764351663496|\n",
      "|  12367|    148|     5|4.4324324324324325|3.804783451842275|4.185638736498705|\n",
      "|  19351|    148|     2|3.5217391304347827|3.804783451842275|3.400049902816894|\n",
      "+-------+-------+------+------------------+-----------------+-----------------+\n",
      "only showing top 5 rows\n",
      "\n",
      "rmse ALS with bias (5 latent factor): 0.8492059827891234\n"
     ]
    }
   ],
   "source": [
    "#Evaluaing model 1 (5 latent factors)\n",
    "test_bias = model.transform(test_bias)\n",
    "\n",
    "#use predicted user-item interaction to calculate rating\n",
    "test_bias = test_bias.withColumn('prediction',test_bias.prediction+test_bias.user_mean+test_bias.item_mean-global_average)\n",
    "\n",
    "test_bias.show(5)\n",
    "\n",
    "#calculate root mean squared error\n",
    "evaluator = RegressionEvaluator(metricName=\"rmse\", labelCol=\"rating\",predictionCol=\"prediction\")\n",
    "rmse = evaluator.evaluate(test_bias)\n",
    "print(\"rmse ALS with bias (5 latent factor):\", str(rmse))"
   ]
  },
  {
   "cell_type": "code",
   "execution_count": 26,
   "metadata": {},
   "outputs": [
    {
     "name": "stdout",
     "output_type": "stream",
     "text": [
      "+-------+-------+------+------------------+-----------------+------------------+\n",
      "|user_id|book_id|rating|         user_mean|        item_mean|        prediction|\n",
      "+-------+-------+------+------------------+-----------------+------------------+\n",
      "|  11141|    148|     3|               3.6|3.804783451842275| 3.799792227499576|\n",
      "|  33412|    148|     5| 4.384615384615385|3.804783451842275| 4.333770453363472|\n",
      "|  51123|    148|     3| 3.923076923076923|3.804783451842275| 4.207602249321846|\n",
      "|  12367|    148|     5|4.4324324324324325|3.804783451842275|4.0861255931976945|\n",
      "|  19351|    148|     2|3.5217391304347827|3.804783451842275|3.3278078030251286|\n",
      "+-------+-------+------+------------------+-----------------+------------------+\n",
      "only showing top 5 rows\n",
      "\n",
      "rmse ALS with bias (10 latent factor): 0.8801238494791618\n"
     ]
    }
   ],
   "source": [
    "#Evaluaing model 2 (10 latent factors)\n",
    "test_bias_2 = model_2.transform(test_bias_2)\n",
    "\n",
    "#use predicted user-item interaction to calculate rating\n",
    "test_bias_2 = test_bias_2.withColumn('prediction',test_bias_2.prediction+test_bias_2.user_mean+test_bias_2.item_mean-global_average)\n",
    "\n",
    "test_bias_2.show(5)\n",
    "\n",
    "evaluator = RegressionEvaluator(metricName=\"rmse\", labelCol=\"rating\",predictionCol=\"prediction\")\n",
    "rmse = evaluator.evaluate(test_bias_2)\n",
    "print(\"rmse ALS with bias (10 latent factor):\", str(rmse))\n"
   ]
  },
  {
   "cell_type": "code",
   "execution_count": 47,
   "metadata": {},
   "outputs": [
    {
     "name": "stdout",
     "output_type": "stream",
     "text": [
      "+-------+-------+------+------------------+-----------------+------------------+\n",
      "|user_id|book_id|rating|         user_mean|        item_mean|        prediction|\n",
      "+-------+-------+------+------------------+-----------------+------------------+\n",
      "|  11141|    148|     3|               3.6|3.804783451842275| 3.578077566974254|\n",
      "|  33412|    148|     5| 4.384615384615385|3.804783451842275|   4.3202532002626|\n",
      "|  51123|    148|     3| 3.923076923076923|3.804783451842275|3.8857096823429136|\n",
      "|  12367|    148|     5|4.4324324324324325|3.804783451842275| 4.268597252232185|\n",
      "|  19351|    148|     2|3.5217391304347827|3.804783451842275|3.5323379452728054|\n",
      "+-------+-------+------+------------------+-----------------+------------------+\n",
      "only showing top 5 rows\n",
      "\n",
      "rmse ALS with bias (2 latent factor): 0.8376734125294871\n"
     ]
    }
   ],
   "source": [
    "#Evaluaing model 3(2 latent factors)\n",
    "test_bias_3 = model_3.transform(test_bias_3)\n",
    "\n",
    "#use predicted user-item interaction to calculate rating\n",
    "test_bias_3 = test_bias_3.withColumn('prediction',test_bias_3.prediction+test_bias_3.user_mean+test_bias_3.item_mean-global_average)\n",
    "\n",
    "test_bias_3.show(5)\n",
    "\n",
    "evaluator = RegressionEvaluator(metricName=\"rmse\", labelCol=\"rating\",predictionCol=\"prediction\")\n",
    "rmse = evaluator.evaluate(test_bias_3)\n",
    "print(\"rmse ALS with bias (2 latent factor):\", str(rmse))"
   ]
  },
  {
   "cell_type": "code",
   "execution_count": 27,
   "metadata": {
    "id": "M-mQpfgxf4oW"
   },
   "outputs": [],
   "source": [
    "#ALS_recommendations = model.recommendForAllUsers(numItems = 10) # n - 10"
   ]
  },
  {
   "cell_type": "code",
   "execution_count": 28,
   "metadata": {
    "colab": {
     "base_uri": "https://localhost:8080/"
    },
    "id": "C2LZKm7Nf4oX",
    "outputId": "41717f3d-dea4-4e5e-a296-8256de31eaa0"
   },
   "outputs": [],
   "source": [
    "#ALS_recommendations.show(n = 10)"
   ]
  },
  {
   "cell_type": "code",
   "execution_count": 29,
   "metadata": {
    "id": "zBA7LQtef4oX"
   },
   "outputs": [],
   "source": [
    "# Temporary table\n",
    "#ALS_recommendations.registerTempTable(\"ALS_recs_temp\")"
   ]
  },
  {
   "cell_type": "code",
   "execution_count": 30,
   "metadata": {
    "colab": {
     "base_uri": "https://localhost:8080/"
    },
    "id": "MwuDQxvPf4oX",
    "outputId": "1586ffca-5465-49a2-ff6f-5a8b9eac18ed"
   },
   "outputs": [
    {
     "data": {
      "text/plain": [
       "'\\nclean_recs = spark.sql(\"\"\"SELECT user_id,\\n                            bookIds_and_ratings.book_id AS book_id,\\n                            bookIds_and_ratings.rating AS prediction\\n                        FROM ALS_recs_temp\\n                        LATERAL VIEW explode(recommendations) exploded_table\\n                            AS bookIds_and_ratings\"\"\")\\nclean_recs.show()\\n'"
      ]
     },
     "execution_count": 30,
     "metadata": {},
     "output_type": "execute_result"
    }
   ],
   "source": [
    "'''\n",
    "clean_recs = spark.sql(\"\"\"SELECT user_id,\n",
    "                            bookIds_and_ratings.book_id AS book_id,\n",
    "                            bookIds_and_ratings.rating AS prediction\n",
    "                        FROM ALS_recs_temp\n",
    "                        LATERAL VIEW explode(recommendations) exploded_table\n",
    "                            AS bookIds_and_ratings\"\"\")\n",
    "clean_recs.show()\n",
    "'''"
   ]
  },
  {
   "cell_type": "markdown",
   "metadata": {
    "id": "BLWoF44JCcXI"
   },
   "source": [
    "###**Recommendations for unread books**"
   ]
  },
  {
   "cell_type": "code",
   "execution_count": 31,
   "metadata": {
    "colab": {
     "base_uri": "https://localhost:8080/"
    },
    "id": "KbtuT4Cyf4oY",
    "outputId": "2de915dc-4b8a-406c-dfc7-81bd0c0cfb2b"
   },
   "outputs": [],
   "source": [
    "#(clean_recs.join(ratings, [\"user_id\", \"book_id\"], \"left\").filter(ratings.rating.isNull()).show())"
   ]
  },
  {
   "cell_type": "code",
   "execution_count": 32,
   "metadata": {
    "id": "_WLi3hHUf4oY"
   },
   "outputs": [],
   "source": [
    "#new_books = (clean_recs.join(ratings, [\"user_id\", \"book_id\"], \"left\").filter(ratings.rating.isNull()))"
   ]
  },
  {
   "cell_type": "code",
   "execution_count": 33,
   "metadata": {
    "colab": {
     "base_uri": "https://localhost:8080/"
    },
    "id": "hG4-zp1df4oZ",
    "outputId": "1edb6c70-f8d2-468e-c550-983a8d3b52e8"
   },
   "outputs": [],
   "source": [
    "#print(new_books.count())"
   ]
  },
  {
   "cell_type": "code",
   "execution_count": 34,
   "metadata": {
    "colab": {
     "base_uri": "https://localhost:8080/"
    },
    "id": "viONLdkef4oZ",
    "outputId": "f19296db-d827-4802-efe0-195440db0dbb"
   },
   "outputs": [],
   "source": [
    "#new_books.show(5)"
   ]
  }
 ],
 "metadata": {
  "colab": {
   "collapsed_sections": [],
   "name": "G10-Model2-MF using ALS-Book-Recommendation.ipynb",
   "provenance": []
  },
  "kernelspec": {
   "display_name": "Python 3 (ipykernel)",
   "language": "python",
   "name": "python3"
  },
  "language_info": {
   "codemirror_mode": {
    "name": "ipython",
    "version": 3
   },
   "file_extension": ".py",
   "mimetype": "text/x-python",
   "name": "python",
   "nbconvert_exporter": "python",
   "pygments_lexer": "ipython3",
   "version": "3.9.7"
  }
 },
 "nbformat": 4,
 "nbformat_minor": 1
}
