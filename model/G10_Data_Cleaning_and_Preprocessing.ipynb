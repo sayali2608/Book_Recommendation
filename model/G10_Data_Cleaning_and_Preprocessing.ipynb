{
 "cells": [
  {
   "cell_type": "code",
   "execution_count": 1,
   "id": "97cadeef",
   "metadata": {},
   "outputs": [],
   "source": [
    "from pyspark.rdd import RDD\n",
    "from pyspark.sql import DataFrame\n",
    "from pyspark.sql import SparkSession\n",
    "from pyspark import SparkFiles\n",
    "import pandas as pd\n",
    "from pyspark.sql.functions import mean\n",
    "from matplotlib import pyplot as plt\n",
    "from pyspark.sql.functions import when\n",
    "\n",
    "def init_spark():\n",
    "    spark = SparkSession \\\n",
    "        .builder \\\n",
    "        .appName(\"Python Spark SQL basic example\") \\\n",
    "        .config(\"spark.some.config.option\", \"some-value\") \\\n",
    "        .getOrCreate()\n",
    "    return spark\n",
    "\n",
    "\n",
    "from pyspark import SparkFiles\n",
    "spark = init_spark()\n",
    "sp = None\n",
    "\n",
    "\n",
    "sp = spark.read.csv(\"ratings.csv\", header=True)"
   ]
  },
  {
   "cell_type": "markdown",
   "id": "1c01437a",
   "metadata": {},
   "source": [
    "# Book Dataset Cleaning \n"
   ]
  },
  {
   "cell_type": "code",
   "execution_count": 2,
   "id": "92223564",
   "metadata": {},
   "outputs": [
    {
     "name": "stdout",
     "output_type": "stream",
     "text": [
      "Total Number of Books 10000\n",
      "+-------+-----------------+------------+-------+-----------+---------+-----------------+---------------+-------------------------+----------------+--------------------+-------------+--------------+-------------+------------------+-----------------------+---------+---------+---------+---------+---------+--------------------+--------------------+\n",
      "|book_id|goodreads_book_id|best_book_id|work_id|books_count|     isbn|           isbn13|        authors|original_publication_year|  original_title|               title|language_code|average_rating|ratings_count|work_ratings_count|work_text_reviews_count|ratings_1|ratings_2|ratings_3|ratings_4|ratings_5|           image_url|     small_image_url|\n",
      "+-------+-----------------+------------+-------+-----------+---------+-----------------+---------------+-------------------------+----------------+--------------------+-------------+--------------+-------------+------------------+-----------------------+---------+---------+---------+---------+---------+--------------------+--------------------+\n",
      "|      1|          2767052|     2767052|2792775|        272|439023483|9.78043902348e+12|Suzanne Collins|                   2008.0|The Hunger Games|The Hunger Games ...|          eng|          4.34|      4780653|           4942365|                 155254|    66715|   127936|   560092|  1481305|  2706317|https://images.gr...|https://images.gr...|\n",
      "+-------+-----------------+------------+-------+-----------+---------+-----------------+---------------+-------------------------+----------------+--------------------+-------------+--------------+-------------+------------------+-----------------------+---------+---------+---------+---------+---------+--------------------+--------------------+\n",
      "only showing top 1 row\n",
      "\n"
     ]
    }
   ],
   "source": [
    "#load book dataset\n",
    "bk = spark.read.csv(\"books.csv\", header=True)\n",
    "print(\"Total Number of Books\",bk.count())\n",
    "bk.show(1)"
   ]
  },
  {
   "cell_type": "code",
   "execution_count": 3,
   "id": "3f6358ac",
   "metadata": {},
   "outputs": [
    {
     "name": "stdout",
     "output_type": "stream",
     "text": [
      "+-------------+\n",
      "|ratings_count|\n",
      "+-------------+\n",
      "|         2716|\n",
      "|         2773|\n",
      "|         3200|\n",
      "|         3427|\n",
      "|         3508|\n",
      "|         3799|\n",
      "|         4225|\n",
      "|         4281|\n",
      "|         4513|\n",
      "|         4528|\n",
      "|         4713|\n",
      "|         4754|\n",
      "|         4769|\n",
      "|         4842|\n",
      "|         4886|\n",
      "|         4911|\n",
      "|         4961|\n",
      "|         5012|\n",
      "|         5017|\n",
      "|         5044|\n",
      "+-------------+\n",
      "only showing top 20 rows\n",
      "\n"
     ]
    },
    {
     "data": {
      "text/plain": [
       "9998"
      ]
     },
     "execution_count": 3,
     "metadata": {},
     "output_type": "execute_result"
    }
   ],
   "source": [
    "# remove book with <=100 ratings only \n",
    "bk = bk.withColumn(\"ratings_count\",bk.ratings_count.cast('int'))\n",
    "bk = bk.where('ratings_count > 100')\n",
    "bk.select('ratings_count').orderBy('ratings_count').show()\n",
    "bk.count()"
   ]
  },
  {
   "cell_type": "code",
   "execution_count": 4,
   "id": "2f494a9f",
   "metadata": {},
   "outputs": [
    {
     "name": "stdout",
     "output_type": "stream",
     "text": [
      "+-------------------------+\n",
      "|original_publication_year|\n",
      "+-------------------------+\n",
      "|                     1120|\n",
      "|                     1273|\n",
      "|                     1308|\n",
      "|                     1320|\n",
      "|                     1320|\n",
      "|                     1320|\n",
      "|                     1353|\n",
      "|                     1380|\n",
      "|                     1390|\n",
      "|                     1390|\n",
      "|                     1418|\n",
      "|                     1485|\n",
      "|                     1513|\n",
      "|                     1516|\n",
      "|                     1519|\n",
      "|                     1532|\n",
      "|                     1550|\n",
      "|                     1554|\n",
      "|                     1563|\n",
      "|                     1589|\n",
      "+-------------------------+\n",
      "only showing top 20 rows\n",
      "\n"
     ]
    },
    {
     "data": {
      "text/plain": [
       "9939"
      ]
     },
     "execution_count": 4,
     "metadata": {},
     "output_type": "execute_result"
    }
   ],
   "source": [
    "# remove book publised in year <= 1000 \n",
    "bk = bk.withColumn(\"original_publication_year\",bk.original_publication_year.cast('int'))\n",
    "bk = bk.where('original_publication_year > 1000')\n",
    "bk.select('original_publication_year').orderBy('original_publication_year').show()\n",
    "bk.count()"
   ]
  },
  {
   "cell_type": "code",
   "execution_count": 5,
   "id": "fb389227",
   "metadata": {},
   "outputs": [
    {
     "name": "stdout",
     "output_type": "stream",
     "text": [
      "+-------+\n",
      "|authors|\n",
      "+-------+\n",
      "+-------+\n",
      "\n"
     ]
    }
   ],
   "source": [
    "#check for null authour\n",
    "bk.filter(bk.authors.isNull()).select('authors').show()"
   ]
  },
  {
   "cell_type": "code",
   "execution_count": 6,
   "id": "b3cfb03e",
   "metadata": {},
   "outputs": [
    {
     "name": "stdout",
     "output_type": "stream",
     "text": [
      "+-------------+-----+\n",
      "|language_code|count|\n",
      "+-------------+-----+\n",
      "|          fre|   25|\n",
      "|           en|    4|\n",
      "|        en-CA|   58|\n",
      "|          rus|    1|\n",
      "|          ind|   21|\n",
      "|          per|    7|\n",
      "|         null| 1077|\n",
      "|          nor|    3|\n",
      "|          pol|    6|\n",
      "|          vie|    1|\n",
      "|          ara|   62|\n",
      "|          por|    6|\n",
      "|          swe|    1|\n",
      "|          mul|    1|\n",
      "|          eng| 6300|\n",
      "|          jpn|    7|\n",
      "|           nl|    1|\n",
      "|          dan|    3|\n",
      "|        en-GB|  256|\n",
      "|          fil|    2|\n",
      "|          tur|    1|\n",
      "|          rum|    1|\n",
      "|          ita|    2|\n",
      "|        en-US| 2060|\n",
      "|          spa|   20|\n",
      "|          ger|   13|\n",
      "+-------------+-----+\n",
      "\n",
      "+-------------+-----+\n",
      "|language_code|count|\n",
      "+-------------+-----+\n",
      "|          fre|   25|\n",
      "|           en|    4|\n",
      "|        en-CA|   58|\n",
      "|          rus|    1|\n",
      "|          ind|   21|\n",
      "|      unknown| 1077|\n",
      "|          per|    7|\n",
      "|          nor|    3|\n",
      "|          pol|    6|\n",
      "|          vie|    1|\n",
      "|          ara|   62|\n",
      "|          por|    6|\n",
      "|          swe|    1|\n",
      "|          mul|    1|\n",
      "|          eng| 6300|\n",
      "|          jpn|    7|\n",
      "|           nl|    1|\n",
      "|          dan|    3|\n",
      "|        en-GB|  256|\n",
      "|          fil|    2|\n",
      "|          tur|    1|\n",
      "|          rum|    1|\n",
      "|          ita|    2|\n",
      "|        en-US| 2060|\n",
      "|          spa|   20|\n",
      "|          ger|   13|\n",
      "+-------------+-----+\n",
      "\n"
     ]
    }
   ],
   "source": [
    "#replace null langauge-code\n",
    "\n",
    "bk.count()\n",
    "bk = bk.withColumn(\"language_code\",bk.language_code.cast('string'))\n",
    "\n",
    "bk.groupBy('language_code').count().select('language_code','count').show(28)\n",
    "\n",
    "#check null vlaues\n",
    "bk.filter(bk.language_code.isNull()).select('language_code').count()\n",
    "\n",
    "#replace null by code 'unknown' - non popular languages \n",
    "bk = bk.withColumn(\"language_code\",when(bk.language_code.isNull(),\"unknown\").otherwise(bk.language_code))\n",
    "\n",
    "bk.groupBy('language_code').count().select('language_code','count').show(28)\n"
   ]
  },
  {
   "cell_type": "code",
   "execution_count": 7,
   "id": "704f89fe",
   "metadata": {},
   "outputs": [
    {
     "name": "stdout",
     "output_type": "stream",
     "text": [
      "Null title 0\n",
      "Null original_title 568\n",
      "+--------------------+--------------------+\n",
      "|               title|      original_title|\n",
      "+--------------------+--------------------+\n",
      "|The Hunger Games ...|    The Hunger Games|\n",
      "|Harry Potter and ...|Harry Potter and ...|\n",
      "|Twilight (Twiligh...|            Twilight|\n",
      "|To Kill a Mocking...|To Kill a Mocking...|\n",
      "|    The Great Gatsby|    The Great Gatsby|\n",
      "|The Fault in Our ...|The Fault in Our ...|\n",
      "|          The Hobbit|The Hobbit or The...|\n",
      "|The Catcher in th...|The Catcher in th...|\n",
      "|Angels & Demons  ...|    Angels & Demons |\n",
      "| Pride and Prejudice| Pride and Prejudice|\n",
      "|     The Kite Runner|    The Kite Runner |\n",
      "|Divergent (Diverg...|           Divergent|\n",
      "|                1984|Nineteen Eighty-Four|\n",
      "|         Animal Farm|Animal Farm: A Fa...|\n",
      "|The Diary of a Yo...|Het Achterhuis: D...|\n",
      "|The Girl with the...|Män som hatar kvi...|\n",
      "|Catching Fire (Th...|       Catching Fire|\n",
      "|Harry Potter and ...|Harry Potter and ...|\n",
      "|The Fellowship of...| The Fellowship o...|\n",
      "|Mockingjay (The H...|          Mockingjay|\n",
      "+--------------------+--------------------+\n",
      "only showing top 20 rows\n",
      "\n"
     ]
    }
   ],
   "source": [
    "#check null title & original title\n",
    "\n",
    "bk = bk.withColumn(\"title\",bk.title.cast('string'))\n",
    "print(\"Null title\",bk.filter(bk.title.isNull()).count())\n",
    "\n",
    "bk = bk.withColumn(\"original_title\",bk.original_title.cast('string'))\n",
    "print(\"Null original_title\",bk.filter(bk.original_title.isNull()).count())\n",
    "\n",
    "bk.filter(bk.original_title.isNotNull()).select('title','original_title').show()\n",
    "\n",
    "#column original title will be discarded and title column used only (since only a title can match other books and not the original title)\n",
    "\n",
    "\n"
   ]
  },
  {
   "cell_type": "code",
   "execution_count": 8,
   "id": "95198be3",
   "metadata": {},
   "outputs": [
    {
     "name": "stdout",
     "output_type": "stream",
     "text": [
      "Number of Samples after cleaning:  9939\n",
      "+-------+--------------------+-------------------------+--------------------+-------------+--------------+-------------+\n",
      "|book_id|             authors|original_publication_year|               title|language_code|average_rating|ratings_count|\n",
      "+-------+--------------------+-------------------------+--------------------+-------------+--------------+-------------+\n",
      "|      1|     Suzanne Collins|                     2008|The Hunger Games ...|          eng|          4.34|      4780653|\n",
      "|      2|J.K. Rowling, Mar...|                     1997|Harry Potter and ...|          eng|          4.44|      4602479|\n",
      "|      3|     Stephenie Meyer|                     2005|Twilight (Twiligh...|        en-US|          3.57|      3866839|\n",
      "|      4|          Harper Lee|                     1960|To Kill a Mocking...|          eng|          4.25|      3198671|\n",
      "|      5| F. Scott Fitzgerald|                     1925|    The Great Gatsby|          eng|          3.89|      2683664|\n",
      "|      6|          John Green|                     2012|The Fault in Our ...|          eng|          4.26|      2346404|\n",
      "|      7|      J.R.R. Tolkien|                     1937|          The Hobbit|        en-US|          4.25|      2071616|\n",
      "|      8|       J.D. Salinger|                     1951|The Catcher in th...|          eng|          3.79|      2044241|\n",
      "|      9|           Dan Brown|                     2000|Angels & Demons  ...|        en-CA|          3.85|      2001311|\n",
      "|     10|         Jane Austen|                     1813| Pride and Prejudice|          eng|          4.24|      2035490|\n",
      "|     11|     Khaled Hosseini|                     2003|     The Kite Runner|          eng|          4.26|      1813044|\n",
      "|     12|       Veronica Roth|                     2011|Divergent (Diverg...|          eng|          4.24|      1903563|\n",
      "|     13|George Orwell, Er...|                     1949|                1984|          eng|          4.14|      1956832|\n",
      "|     14|       George Orwell|                     1945|         Animal Farm|          eng|          3.87|      1881700|\n",
      "|     15|Anne Frank, Elean...|                     1947|The Diary of a Yo...|          eng|           4.1|      1972666|\n",
      "|     16|Stieg Larsson, Re...|                     2005|The Girl with the...|          eng|          4.11|      1808403|\n",
      "|     17|     Suzanne Collins|                     2009|Catching Fire (Th...|          eng|           4.3|      1831039|\n",
      "|     18|J.K. Rowling, Mar...|                     1999|Harry Potter and ...|          eng|          4.53|      1832823|\n",
      "|     19|      J.R.R. Tolkien|                     1954|The Fellowship of...|          eng|          4.34|      1766803|\n",
      "|     20|     Suzanne Collins|                     2010|Mockingjay (The H...|          eng|          4.03|      1719760|\n",
      "+-------+--------------------+-------------------------+--------------------+-------------+--------------+-------------+\n",
      "only showing top 20 rows\n",
      "\n",
      "+---------+---------+---------+---------+---------+\n",
      "|ratings_1|ratings_2|ratings_3|ratings_4|ratings_5|\n",
      "+---------+---------+---------+---------+---------+\n",
      "|    66715|   127936|   560092|  1481305|  2706317|\n",
      "|    75504|   101676|   455024|  1156318|  3011543|\n",
      "|   456191|   436802|   793319|   875073|  1355439|\n",
      "|    60427|   117415|   446835|  1001952|  1714267|\n",
      "|    86236|   197621|   606158|   936012|   947718|\n",
      "|    47994|    92723|   327550|   698471|  1311871|\n",
      "|    46023|    76784|   288649|   665635|  1119718|\n",
      "|   109383|   185520|   455042|   661516|   709176|\n",
      "|    77841|   145740|   458429|   716569|   680175|\n",
      "|    54700|    86485|   284852|   609755|  1155673|\n",
      "|    34288|    59980|   226062|   628174|   929591|\n",
      "|    36315|    82870|   310297|   673028|  1114304|\n",
      "|    41845|    86425|   324874|   692021|   908229|\n",
      "|    66854|   135147|   433432|   698642|   648912|\n",
      "|    45225|    91270|   355756|   656870|   875372|\n",
      "|    54835|    86051|   285413|   667485|   836050|\n",
      "|    10492|    48030|   262010|   687238|   980309|\n",
      "|     6716|    20413|   166129|   509447|  1266670|\n",
      "|    38031|    55862|   202332|   493922|  1042394|\n",
      "|    30144|   110498|   373060|   618271|   738775|\n",
      "+---------+---------+---------+---------+---------+\n",
      "only showing top 20 rows\n",
      "\n"
     ]
    }
   ],
   "source": [
    "#discard un-required columns\n",
    "\n",
    "bk = bk.select('book_id','authors','original_publication_year','title','language_code','average_rating','ratings_count','ratings_1','ratings_2','ratings_3','ratings_4','ratings_5')\n",
    "print(\"Number of Samples after cleaning: \",bk.count())\n",
    "bk.select('book_id','authors','original_publication_year','title','language_code','average_rating','ratings_count').show()\n",
    "bk.select('ratings_1','ratings_2','ratings_3','ratings_4','ratings_5').show()"
   ]
  },
  {
   "cell_type": "code",
   "execution_count": null,
   "id": "cdc00358",
   "metadata": {},
   "outputs": [],
   "source": []
  },
  {
   "cell_type": "markdown",
   "id": "e494d9cc",
   "metadata": {},
   "source": [
    "# Clean Tags Dataset\n"
   ]
  },
  {
   "cell_type": "code",
   "execution_count": 9,
   "id": "aa8ac545",
   "metadata": {},
   "outputs": [
    {
     "name": "stdout",
     "output_type": "stream",
     "text": [
      "999912\n",
      "34252\n",
      "+------+-----------------+------+-----------------+\n",
      "|tag_id|goodreads_book_id| count|         tag_name|\n",
      "+------+-----------------+------+-----------------+\n",
      "| 30574|                1|167697|          to-read|\n",
      "| 11305|                1| 37174|          fantasy|\n",
      "| 11557|                1| 34173|        favorites|\n",
      "|  8717|                1| 12986|currently-reading|\n",
      "| 33114|                1| 12716|      young-adult|\n",
      "+------+-----------------+------+-----------------+\n",
      "only showing top 5 rows\n",
      "\n"
     ]
    }
   ],
   "source": [
    "#load dataset\n",
    "tags = spark.read.csv(\"book_tags.csv\", header=True)\n",
    "tags_name = spark.read.csv(\"tags.csv\", header=True)\n",
    "\n",
    "print(tags.count())\n",
    "print(tags_name.count())\n",
    "\n",
    "\n",
    "tags = tags.join(tags_name, ['tag_id'], 'left_outer')\n",
    "tags.show(5)"
   ]
  },
  {
   "cell_type": "code",
   "execution_count": 10,
   "id": "e815258f",
   "metadata": {},
   "outputs": [
    {
     "name": "stdout",
     "output_type": "stream",
     "text": [
      "Redundant tags 33143\n",
      "+------+-----------------+------+------------+-----+\n",
      "|tag_id|goodreads_book_id|count_|    tag_name|count|\n",
      "+------+-----------------+------+------------+-----+\n",
      "| 10096|           714711|     1|e-books-read|    1|\n",
      "| 10351|            10115|     5|  egyptology|    4|\n",
      "| 10351|           188230|    22|  egyptology|    4|\n",
      "| 10351|           481446|     8|  egyptology|    4|\n",
      "| 10351|          2653622|     9|  egyptology|    4|\n",
      "+------+-----------------+------+------------+-----+\n",
      "only showing top 5 rows\n",
      "\n",
      "+------+-----------------+------+--------+-----+\n",
      "|tag_id|goodreads_book_id|count_|tag_name|count|\n",
      "+------+-----------------+------+--------+-----+\n",
      "| 18130|               25|    21|    life|  412|\n",
      "| 18130|               98|     3|    life|  412|\n",
      "| 18130|              117|     8|    life|  412|\n",
      "| 18130|              446|     4|    life|  412|\n",
      "| 18130|              629|    57|    life|  412|\n",
      "+------+-----------------+------+--------+-----+\n",
      "only showing top 5 rows\n",
      "\n"
     ]
    },
    {
     "data": {
      "text/plain": [
       "813611"
      ]
     },
     "execution_count": 10,
     "metadata": {},
     "output_type": "execute_result"
    }
   ],
   "source": [
    "#remove tags that has < 100 books with that label \n",
    "\n",
    "tags = tags.withColumnRenamed(\"count\",\"count_\")\n",
    "tags = tags.withColumn(\"count_\",tags.count_.cast('int'))\n",
    "\n",
    "count_r = tags.groupBy('tag_id').count()\n",
    "print(\"Redundant tags\",count_r.where('count < 100').count())\n",
    "\n",
    "tags = tags.join(count_r, ['tag_id'], 'left_outer')\n",
    "\n",
    "# filter tags\n",
    "\n",
    "tags.show(5)\n",
    "\n",
    "tags = tags.where('count >= 100')\n",
    "\n",
    "tags.show(5)\n",
    "tags.count()\n"
   ]
  },
  {
   "cell_type": "code",
   "execution_count": 11,
   "id": "6d75fb96",
   "metadata": {},
   "outputs": [
    {
     "name": "stdout",
     "output_type": "stream",
     "text": [
      "+------+-----------------+------+----------+-----+\n",
      "|tag_id|goodreads_book_id|count_|  tag_name|count|\n",
      "+------+-----------------+------+----------+-----+\n",
      "| 18130|             6900|   133|      life|  412|\n",
      "|  2136|            14384|   139|alpha-male|  588|\n",
      "|  2136|            35729|   160|alpha-male|  588|\n",
      "|  2136|            42899|   238|alpha-male|  588|\n",
      "|  2136|            42900|   160|alpha-male|  588|\n",
      "+------+-----------------+------+----------+-----+\n",
      "only showing top 5 rows\n",
      "\n"
     ]
    },
    {
     "data": {
      "text/plain": [
       "111740"
      ]
     },
     "execution_count": 11,
     "metadata": {},
     "output_type": "execute_result"
    }
   ],
   "source": [
    "#remove tags of books which was labeled by < 100 users (e.g less than 100 out of >100 000 users label a book with \"action\"\n",
    "#tag means the book is not an action book and the tag should be remove)\n",
    "\n",
    "tags = tags.where('count_ > 100')\n",
    "tags.show(5)\n",
    "tags.count()"
   ]
  },
  {
   "cell_type": "code",
   "execution_count": 12,
   "id": "bf50a455",
   "metadata": {},
   "outputs": [
    {
     "name": "stdout",
     "output_type": "stream",
     "text": [
      "Number of distinct tags:  763\n",
      "+-----------------+------+----------+\n",
      "|goodreads_book_id|tag_id|  tag_name|\n",
      "+-----------------+------+----------+\n",
      "|             6900| 18130|      life|\n",
      "|            14384|  2136|alpha-male|\n",
      "|            35729|  2136|alpha-male|\n",
      "|            42899|  2136|alpha-male|\n",
      "|            42900|  2136|alpha-male|\n",
      "+-----------------+------+----------+\n",
      "only showing top 5 rows\n",
      "\n"
     ]
    }
   ],
   "source": [
    "print(\"Number of distinct tags: \",tags.select('tag_name').distinct().count())\n",
    "\n",
    "tags = tags.select('goodreads_book_id','tag_id','tag_name')\n",
    "\n",
    "tags.show(5)"
   ]
  },
  {
   "cell_type": "code",
   "execution_count": 13,
   "id": "61ca5354",
   "metadata": {},
   "outputs": [],
   "source": [
    "#save cleaned data\n",
    "\n",
    "bk.write.csv(\"book_clean.csv\",header=True)\n",
    "\n",
    "tags.write.csv(\"book-tag_clean.csv\",header=True)"
   ]
  }
 ],
 "metadata": {
  "kernelspec": {
   "display_name": "Python 3 (ipykernel)",
   "language": "python",
   "name": "python3"
  },
  "language_info": {
   "codemirror_mode": {
    "name": "ipython",
    "version": 3
   },
   "file_extension": ".py",
   "mimetype": "text/x-python",
   "name": "python",
   "nbconvert_exporter": "python",
   "pygments_lexer": "ipython3",
   "version": "3.9.7"
  }
 },
 "nbformat": 4,
 "nbformat_minor": 5
}
